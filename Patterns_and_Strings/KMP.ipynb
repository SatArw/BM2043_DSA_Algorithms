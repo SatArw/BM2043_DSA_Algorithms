{
 "cells": [
  {
   "cell_type": "code",
   "execution_count": 5,
   "id": "37eafaad",
   "metadata": {},
   "outputs": [],
   "source": [
    "import random as rnd\n",
    "import time\n",
    "import string\n",
    "import matplotlib.pyplot as plt\n",
    "import numpy as np"
   ]
  },
  {
   "cell_type": "code",
   "execution_count": 9,
   "id": "a55c7aed",
   "metadata": {},
   "outputs": [
    {
     "name": "stdout",
     "output_type": "stream",
     "text": [
      "Enter the string: 290tpu21350639625u42135\n",
      "Enter the pattern: 2135\n",
      "Pattern is at index 6\n",
      "Pattern is at index 19\n"
     ]
    }
   ],
   "source": [
    "def KMP(strn,pattern):\n",
    "    n=len(strn)\n",
    "    m=len(pattern)\n",
    "    \n",
    "    lps=[0]*m # lps[] will hold the longest prefix suffix values for pattern\n",
    "    j=0 # index for pattern[]\n",
    "    #calculate lps[] array\n",
    "    LPS(pattern, m, lps)\n",
    "    \n",
    "    i=0 \n",
    "    while i<n:\n",
    "        if pattern[j]==strn[i]:\n",
    "            i+=1\n",
    "            j+=1\n",
    "        if j==m:\n",
    "            print(\"Pattern is at index \" + str(i-j))\n",
    "            j=lps[j-1]\n",
    "        elif i<n and pattern[j]!=strn[i]:\n",
    "            if j!=0:\n",
    "                j=lps[j-1]\n",
    "            else:\n",
    "                i+=1\n",
    "                \n",
    "def LPS(pattern,m,lps):\n",
    "    len=0 # length of the previous longest prefix suffix\n",
    "    lps[0]\n",
    "    \n",
    "    i=1\n",
    "    while i<m:\n",
    "        if pattern[i]==pattern[len]:\n",
    "            len+=1\n",
    "            lps[i]=len\n",
    "            i+=1\n",
    "        else:\n",
    "            if len!=0:\n",
    "                len=lps[len-1]\n",
    "            else:\n",
    "                lps[i]=0\n",
    "                i+=1\n",
    "s=input(\"Enter the string: \")\n",
    "p=input(\"Enter the pattern: \")\n",
    "KMP(s,p)"
   ]
  },
  {
   "cell_type": "markdown",
   "id": "0b4b5dbe",
   "metadata": {},
   "source": [
    "The time complexit of KMP algorithm is O(n) even in the worst case"
   ]
  },
  {
   "cell_type": "code",
   "execution_count": null,
   "id": "ff55b488",
   "metadata": {},
   "outputs": [],
   "source": []
  }
 ],
 "metadata": {
  "kernelspec": {
   "display_name": "Python 3",
   "language": "python",
   "name": "python3"
  },
  "language_info": {
   "codemirror_mode": {
    "name": "ipython",
    "version": 3
   },
   "file_extension": ".py",
   "mimetype": "text/x-python",
   "name": "python",
   "nbconvert_exporter": "python",
   "pygments_lexer": "ipython3",
   "version": "3.6.13"
  }
 },
 "nbformat": 4,
 "nbformat_minor": 5
}
