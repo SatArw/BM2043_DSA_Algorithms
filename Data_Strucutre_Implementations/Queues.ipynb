{
 "cells": [
  {
   "cell_type": "code",
   "execution_count": 11,
   "id": "087d960c",
   "metadata": {},
   "outputs": [],
   "source": [
    "import time\n",
    "import matplotlib.pyplot as plt\n",
    "import math"
   ]
  },
  {
   "cell_type": "code",
   "execution_count": 25,
   "id": "19aa3ded",
   "metadata": {},
   "outputs": [
    {
     "name": "stdout",
     "output_type": "stream",
     "text": [
      "[30, 20]\n"
     ]
    }
   ],
   "source": [
    "#QUEUE\n",
    "class Queue:\n",
    "    def __init__(self):\n",
    "        self.items = []\n",
    "\n",
    "    def isEmpty(self):\n",
    "        return self.items == []\n",
    "\n",
    "    def enqueue(self, item):\n",
    "        self.items.insert(0,item)\n",
    "\n",
    "    def dequeue(self):\n",
    "        return self.items.pop()\n",
    "\n",
    "    def size(self):\n",
    "        return len(self.items)\n",
    "    \n",
    "    def printer(self):\n",
    "        print(self.items)\n",
    "        \n",
    "######################################################    \n",
    "q=Queue()\n",
    "q.enqueue(18)\n",
    "q.enqueue(20)\n",
    "q.enqueue(30)\n",
    "q.dequeue()b\n",
    "q.printer()"
   ]
  },
  {
   "cell_type": "code",
   "execution_count": 23,
   "id": "bf886252",
   "metadata": {},
   "outputs": [
    {
     "name": "stdout",
     "output_type": "stream",
     "text": [
      "81 enqueued\n",
      "25 enqueued\n",
      "64 enqueued\n",
      "36 enqueued\n",
      "49 enqueued\n",
      "4 enqueued\n",
      "100 enqueued\n",
      " \n",
      "100 dequeued\n",
      "81 dequeued\n",
      "64 dequeued\n"
     ]
    }
   ],
   "source": [
    "#PRIORITY QUEUES\n",
    "# This can be implemented with the help of max-heaps\n",
    "def max_heapify(ind,max_heap):\n",
    "    size=len(max_heap)\n",
    "    if(ind>size):\n",
    "        return\n",
    "    larg_ind=ind\n",
    "    child1=2*ind\n",
    "    child2=2*ind + 1\n",
    "    if(child1<size):\n",
    "        if(max_heap[child1]>max_heap[larg_ind]):\n",
    "            larg_ind=child1\n",
    "    if(child2<size):\n",
    "        if(max_heap[child2]>max_heap[larg_ind]):\n",
    "            larg_ind=child2\n",
    "    if(larg_ind!=ind):\n",
    "        max_heap[ind],max_heap[larg_ind]=max_heap[larg_ind],max_heap[ind]\n",
    "        max_heapify(larg_ind,max_heap)\n",
    "    \n",
    "            \n",
    "def enqueue(ele,max_heap):\n",
    "    size=len(max_heap)\n",
    "    if(size==0):\n",
    "        max_heap.append(0)\n",
    "    max_heap.append(ele)\n",
    "    i=len(max_heap)-1\n",
    "    cont=True\n",
    "    while(i>1 and cont):\n",
    "        p_i=math.floor(i/2)\n",
    "        if(max_heap[i]>max_heap[p_i]):\n",
    "            max_heap[i],max_heap[p_i]=max_heap[p_i],max_heap[i]\n",
    "        else:\n",
    "            cont=False\n",
    "        i=p_i\n",
    "    print(ele,\"enqueued\")\n",
    "\n",
    "def dequeue(max_heap):\n",
    "    size=len(max_heap)-1\n",
    "    value=max_heap[1]\n",
    "    max_heap[1]=max_heap[size]\n",
    "    max_heap.pop(size)\n",
    "    max_heapify(1,max_heap)\n",
    "    print(value,\"dequeued\")\n",
    "\n",
    "################################################\n",
    "Q=[]\n",
    "enqueue(81,Q)\n",
    "enqueue(25,Q)\n",
    "enqueue(64,Q)\n",
    "enqueue(36,Q)\n",
    "enqueue(49,Q)\n",
    "enqueue(4,Q)\n",
    "enqueue(100,Q)\n",
    "print(\" \")\n",
    "dequeue(Q)\n",
    "dequeue(Q)\n",
    "dequeue(Q)\n",
    "\n",
    "##################################################\n",
    "# The runtime for enqueue of one element is same as inserting one element into a max heap (size=n)\n",
    "# This was experimentally and theoretically proved to be O(logn)\n",
    "\n",
    "# The runtime for dequeue of one element is same as deleting one element from a max heap (size=n)\n",
    "# Again it is O(logn)\n",
    "\n",
    "# Searching an element again is of order O(n), as we will have to search linearly for each element"
   ]
  },
  {
   "cell_type": "code",
   "execution_count": null,
   "id": "284012d9",
   "metadata": {},
   "outputs": [],
   "source": []
  }
 ],
 "metadata": {
  "kernelspec": {
   "display_name": "Python 3",
   "language": "python",
   "name": "python3"
  },
  "language_info": {
   "codemirror_mode": {
    "name": "ipython",
    "version": 3
   },
   "file_extension": ".py",
   "mimetype": "text/x-python",
   "name": "python",
   "nbconvert_exporter": "python",
   "pygments_lexer": "ipython3",
   "version": "3.6.13"
  }
 },
 "nbformat": 4,
 "nbformat_minor": 5
}
