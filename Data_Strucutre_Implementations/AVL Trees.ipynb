{
 "cells": [
  {
   "cell_type": "code",
   "execution_count": null,
   "id": "c578e651",
   "metadata": {},
   "outputs": [],
   "source": [
    "class node:\n",
    "    def __init__(self,key):\n",
    "        self.left=None\n",
    "        self.right=None\n",
    "        self.parent=None\n",
    "        self.val=key\n",
    "        self.height=0\n",
    "\n",
    "def height_update(root,node_x):\n",
    "    if(node_x.height!=0):\n",
    "        return node_x.height\n",
    "    elif(node_x.left==None and node_x.right=None):\n",
    "        node_x.height=1\n",
    "    else:\n",
    "        node_x.height=1+max(height_update(root,node_x.left),height_update(root,node_x.right))\n",
    "    return node_x.height    \n",
    "        \n",
    "\n",
    "def right_rot(root,node):\n",
    "    \n",
    "    \n",
    "    \n",
    "    \n",
    "    \n",
    "def insert(root,key):\n",
    "    if root is None:\n",
    "        return node(key)\n",
    "    else:\n",
    "        if(root.val==key):\n",
    "            return root\n",
    "        elif(root.val>key):\n",
    "            root.left=insert(root.left,key)\n",
    "        else:\n",
    "            root.right=insert(root.right,key)\n",
    "    return root\n",
    "\n",
    "\n",
    "\n"
   ]
  }
 ],
 "metadata": {
  "kernelspec": {
   "display_name": "Python 3",
   "language": "python",
   "name": "python3"
  },
  "language_info": {
   "codemirror_mode": {
    "name": "ipython",
    "version": 3
   },
   "file_extension": ".py",
   "mimetype": "text/x-python",
   "name": "python",
   "nbconvert_exporter": "python",
   "pygments_lexer": "ipython3",
   "version": "3.6.13"
  }
 },
 "nbformat": 4,
 "nbformat_minor": 5
}
