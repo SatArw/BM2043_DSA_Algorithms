{
 "cells": [
  {
   "cell_type": "code",
   "execution_count": 55,
   "id": "d54b7e0e",
   "metadata": {},
   "outputs": [
    {
     "name": "stdout",
     "output_type": "stream",
     "text": [
      "([1, 2, 3, 4, 5, 15, 14, 13, 12, 11], 102)\n",
      "([6, 7, 8, 9, 10, 20, 19, 18, 17, 16], 102)\n"
     ]
    }
   ],
   "source": [
    "def bubble_sort(arr):\n",
    "    cmps = 0\n",
    "    l = len(arr)\n",
    "    for i in range(l):\n",
    "        for j in range(0,l-1):\n",
    "            cmps+=1\n",
    "            if(arr[j]>arr[j+1]):\n",
    "                arr[j],arr[j+1] = arr[j+1],arr[j]\n",
    "    return arr,cmps\n",
    "\n",
    "def rev_sort(arr):\n",
    "    cmps = 0\n",
    "    l = len(arr)\n",
    "    for i in range(l):\n",
    "        for j in range(0,l-1):\n",
    "            cmps+=1\n",
    "            if(arr[j]<arr[j+1]):\n",
    "                arr[j],arr[j+1] = arr[j+1],arr[j]\n",
    "    return arr,cmps\n",
    "def spec_sort(arr):\n",
    "    comps=0\n",
    "    l = len(arr)\n",
    "    incr_sorted_arr,cmps = bubble_sort(arr)\n",
    "    comps += cmps\n",
    "    incr_sorted_arr[int(l/2)], incr_sorted_arr[l-1] = incr_sorted_arr[l-1], incr_sorted_arr[int(l/2)]\n",
    "    decr_sorted_arr,cmps = rev_sort(arr[int(l/2)+1:l:1])\n",
    "    comps += cmps\n",
    "    f_arr = incr_sorted_arr[0:int(l/2)+1:1] + decr_sorted_arr\n",
    "    return f_arr,comps\n",
    "\n",
    "\n",
    "arr1 = [1,2,3,4,5,11,12,13,14,15]\n",
    "arr2 = [6,7,8,9,10,16,17,18,19,20]\n",
    "print(spec_sort(arr1))\n",
    "print(spec_sort(arr2))\n",
    "\n",
    "    "
   ]
  },
  {
   "cell_type": "markdown",
   "id": "cc20f4c1",
   "metadata": {},
   "source": [
    "- I have used bubble sort to sort elements in this code ( why? time constraints ), so it will take O(n^2) to sort\n",
    "\n",
    "- T = 2 * O((n/2)^2) This is the time needed to perform bubble_sort and rev_sort\n",
    "\n",
    "- needs an array of size (n/2) to store rev_sorted sub_array\n",
    "\n",
    "- Can be made more efficient by using quick or merge sort (O(nlogn)), but space complexity will increase"
   ]
  },
  {
   "cell_type": "code",
   "execution_count": 48,
   "id": "58ba37ed",
   "metadata": {},
   "outputs": [
    {
     "data": {
      "text/plain": [
       "Text(0, 0.5, 'No of comparisons')"
      ]
     },
     "execution_count": 48,
     "metadata": {},
     "output_type": "execute_result"
    },
    {
     "data": {
      "image/png": "[encoded data removed]",
      "text/plain": [
       "<Figure size 432x288 with 1 Axes>"
      ]
     },
     "metadata": {
      "needs_background": "light"
     },
     "output_type": "display_data"
    }
   ],
   "source": [
    "import random as rnd\n",
    "import time\n",
    "import matplotlib.pyplot as plt\n",
    "inp_sizes = []\n",
    "unit = 10\n",
    "for i in range(int(100/unit)):\n",
    "    inp_sizes.append(unit*(i+1))\n",
    "\n",
    "runtimes= []\n",
    "for n in inp_sizes:\n",
    "    arr=[]\n",
    "    for i in range(n):\n",
    "        arr.append(rnd.randint(-(n),n))\n",
    "\n",
    "    arr,comps = spec_sort(arr)\n",
    "\n",
    "    runtimes.append(comps)\n",
    "\n",
    "\n",
    "plt.plot(inp_sizes,runtimes)\n",
    "plt.xlabel(\"Array sizes\")\n",
    "plt.ylabel(\"No of comparisons\")\n",
    "\n",
    "        "
   ]
  },
  {
   "cell_type": "markdown",
   "id": "91316247",
   "metadata": {},
   "source": [
    "- As seen the runtime is O(n^2)"
   ]
  },
  {
   "cell_type": "code",
   "execution_count": null,
   "id": "bb6be580",
   "metadata": {},
   "outputs": [],
   "source": []
  }
 ],
 "metadata": {
  "kernelspec": {
   "display_name": "Python 3",
   "language": "python",
   "name": "python3"
  },
  "language_info": {
   "codemirror_mode": {
    "name": "ipython",
    "version": 3
   },
   "file_extension": ".py",
   "mimetype": "text/x-python",
   "name": "python",
   "nbconvert_exporter": "python",
   "pygments_lexer": "ipython3",
   "version": "3.6.13"
  }
 },
 "nbformat": 4,
 "nbformat_minor": 5
}
