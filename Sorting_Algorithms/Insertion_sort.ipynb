{
 "cells": [
  {
   "cell_type": "code",
   "execution_count": 1,
   "id": "a2db7d87",
   "metadata": {},
   "outputs": [],
   "source": [
    "\n",
    "def insertion_sort(arr,n):\n",
    "    i=0\n",
    "    swaps=0\n",
    "    while(i<n):\n",
    "        j=i\n",
    "        while(j>0):\n",
    "           \n",
    "            if(arr[j]<arr[j-1]):\n",
    "                swaps+=1\n",
    "\n",
    "                temp=arr[j]\n",
    "                arr[j]=arr[j-1]\n",
    "                arr[j-1]=temp\n",
    "            j-=1\n",
    "  \n",
    "        i+=1\n",
    "    return swaps\n"
   ]
  },
  {
   "cell_type": "code",
   "execution_count": 2,
   "id": "0d31b230",
   "metadata": {},
   "outputs": [
    {
     "name": "stdout",
     "output_type": "stream",
     "text": [
      "Array before: [72, 34, 3, 54, 14, 0, 15, 14, 38, 99]\n",
      "Array after: [0, 3, 14, 14, 15, 34, 38, 54, 72, 99]\n"
     ]
    }
   ],
   "source": [
    "import random as rnd\n",
    "\n",
    "n=10\n",
    "arr=[]\n",
    "for f in range(0,n):\n",
    "    arr.append(rnd.randint(0,10*n))\n",
    "print(\"Array before:\",arr)\n",
    "insertion_sort(arr,n)\n",
    "print(\"Array after:\",arr)\n"
   ]
  },
  {
   "cell_type": "code",
   "execution_count": null,
   "id": "ee99a4de",
   "metadata": {},
   "outputs": [],
   "source": []
  },
  {
   "cell_type": "code",
   "execution_count": null,
   "id": "628c2259",
   "metadata": {},
   "outputs": [],
   "source": []
  }
 ],
 "metadata": {
  "kernelspec": {
   "display_name": "Python 3",
   "language": "python",
   "name": "python3"
  },
  "language_info": {
   "codemirror_mode": {
    "name": "ipython",
    "version": 3
   },
   "file_extension": ".py",
   "mimetype": "text/x-python",
   "name": "python",
   "nbconvert_exporter": "python",
   "pygments_lexer": "ipython3",
   "version": "3.6.13"
  }
 },
 "nbformat": 4,
 "nbformat_minor": 5
}
