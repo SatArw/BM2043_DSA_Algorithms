{
 "cells": [
  {
   "cell_type": "code",
   "execution_count": 1,
   "id": "1a503a97",
   "metadata": {},
   "outputs": [],
   "source": [
    "#Functional implementation for quick sort\n",
    "def partition(arr,l,r):\n",
    "    pivot = arr[r] #last element is pivot\n",
    "    i=l-1\n",
    "    for j in range(l,r):\n",
    "        if(arr[j]<pivot): #if element is less than pivot, we increase i and swap arr[i] with arr[j]\n",
    "            i+=1\n",
    "            arr[i],arr[j]=arr[j],arr[i]\n",
    "    arr[i+1],arr[r]=arr[r],arr[i+1] #finally we place pivot at the right position\n",
    "    return (i+1)\n",
    "\n",
    "def quick_sort(arr,l,r):\n",
    "    if(l<r):\n",
    "        ind_part = partition(arr,l,r)\n",
    "        quick_sort(arr,l,ind_part-1)\n",
    "        quick_sort(arr,ind_part+1,r)\n",
    "        \n"
   ]
  },
  {
   "cell_type": "code",
   "execution_count": 2,
   "id": "1f872494",
   "metadata": {},
   "outputs": [],
   "source": [
    "import random as rnd\n",
    "import matplotlib.pyplot as plt\n",
    "import time\n",
    "import statistics\n",
    "from statistics import mean\n"
   ]
  },
  {
   "cell_type": "code",
   "execution_count": 3,
   "id": "30d3a413",
   "metadata": {},
   "outputs": [],
   "source": [
    "inp_sizes = [10,100,1000,10000]\n",
    "ex_t = [] # list to store average execution times for values of n"
   ]
  },
  {
   "cell_type": "code",
   "execution_count": 4,
   "id": "781688bf",
   "metadata": {},
   "outputs": [
    {
     "name": "stdout",
     "output_type": "stream",
     "text": [
      "Array size: 10\n",
      "Execution times: [0.0, 0.0, 0.0, 0.0, 0.0, 0.0, 0.0, 0.0, 0.0, 0.0]\n",
      "Variance: 0.0\n"
     ]
    }
   ],
   "source": [
    "#Checking variance of execution time for different values of n\n",
    "#The number of test cases considered for each value of n is 10\n",
    "\n",
    "n=10\n",
    "arr=[]\n",
    "exec_times=[]\n",
    "for i in range(n):\n",
    "    arr.append(rnd.randint(-10000,10000))\n",
    "for tests in range(10):\n",
    "    start=time.time()\n",
    "    quick_sort(arr,0,n-1)\n",
    "    end=time.time()\n",
    "    exec_times.append(end-start)\n",
    "print(\"Array size:\",n)\n",
    "print(\"Execution times:\",exec_times)\n",
    "vrnc1 = statistics.variance(exec_times)\n",
    "print(\"Variance:\",vrnc1)\n",
    "ex_t.append(mean(exec_times[0:4:1]))"
   ]
  },
  {
   "cell_type": "code",
   "execution_count": 5,
   "id": "8a7654dd",
   "metadata": {},
   "outputs": [
    {
     "name": "stdout",
     "output_type": "stream",
     "text": [
      "Array size: 100\n",
      "Execution times: [0.0, 0.0009968280792236328, 0.0, 0.0009968280792236328, 0.0, 0.000997781753540039, 0.000997781753540039, 0.0, 0.0009970664978027344, 0.0]\n",
      "Variance: 2.7625621391457063e-07\n"
     ]
    }
   ],
   "source": [
    "n=100\n",
    "arr=[]\n",
    "exec_times=[]\n",
    "for i in range(n):\n",
    "    arr.append(rnd.randint(-10000,10000))\n",
    "for tests in range(10):\n",
    "    start=time.time()\n",
    "    quick_sort(arr,0,n-1)\n",
    "    end=time.time()\n",
    "    exec_times.append(end-start)\n",
    "print(\"Array size:\",n)\n",
    "print(\"Execution times:\",exec_times)\n",
    "vrnc2 = statistics.variance(exec_times)\n",
    "print(\"Variance:\",vrnc2)\n",
    "ex_t.append(mean(exec_times[0:4:1]))"
   ]
  },
  {
   "cell_type": "code",
   "execution_count": 6,
   "id": "effc3dc2",
   "metadata": {},
   "outputs": [
    {
     "name": "stdout",
     "output_type": "stream",
     "text": [
      "Array size: 1000\n",
      "Execution times: [0.0019948482513427734, 0.055884599685668945, 0.05684804916381836, 0.056847572326660156, 0.054853200912475586, 0.05385589599609375, 0.052858591079711914, 0.05186128616333008, 0.05385613441467285, 0.06483697891235352]\n",
      "Variance: 0.00030184493034602787\n"
     ]
    }
   ],
   "source": [
    "n=1000\n",
    "arr=[]\n",
    "exec_times=[]\n",
    "for i in range(n):\n",
    "    arr.append(rnd.randint(-10000,10000))\n",
    "for tests in range(10):\n",
    "    start=time.time()\n",
    "    quick_sort(arr,0,n-1)\n",
    "    end=time.time()\n",
    "    exec_times.append(end-start)\n",
    "print(\"Array size:\",n)\n",
    "print(\"Execution times:\",exec_times)\n",
    "vrnc3 = statistics.variance(exec_times)\n",
    "\n",
    "print(\"Variance:\",vrnc3)\n",
    "ex_t.append(mean(exec_times[0:4:1]))"
   ]
  },
  {
   "cell_type": "code",
   "execution_count": 7,
   "id": "026ea404",
   "metadata": {},
   "outputs": [
    {
     "name": "stdout",
     "output_type": "stream",
     "text": [
      "Array size: 10000\n",
      "Execution times: [0.01898193359375, 1.2227559089660645]\n",
      "Variance: 0.7245358918918328\n"
     ]
    }
   ],
   "source": [
    "n=10000\n",
    "arr=[]\n",
    "exec_times=[]\n",
    "for i in range(n):\n",
    "    arr.append(rnd.randint(-1000,1000))\n",
    "for tests in range(2):\n",
    "    start=time.time()\n",
    "    quick_sort(arr,0,n-1)\n",
    "    end=time.time()\n",
    "    exec_times.append(end-start)\n",
    "print(\"Array size:\",n)\n",
    "print(\"Execution times:\",exec_times)\n",
    "vrnc4 = statistics.variance(exec_times)\n",
    "print(\"Variance:\",vrnc4)\n",
    "ex_t.append(mean(exec_times[0:4:1]))"
   ]
  },
  {
   "cell_type": "code",
   "execution_count": 8,
   "id": "de07d675",
   "metadata": {},
   "outputs": [
    {
     "data": {
      "image/png": "[encoded data removed]",
      "text/plain": [
       "<Figure size 432x288 with 1 Axes>"
      ]
     },
     "metadata": {
      "needs_background": "light"
     },
     "output_type": "display_data"
    }
   ],
   "source": [
    "#Graph to show Execution time vs input size\n",
    "p1=plt.plot(inp_sizes,ex_t)\n",
    "plt.xlabel(\"Input sizes\")\n",
    "plt.ylabel(\"Execution time\")\n",
    "plt.show()"
   ]
  },
  {
   "cell_type": "code",
   "execution_count": 9,
   "id": "529a2a34",
   "metadata": {},
   "outputs": [
    {
     "data": {
      "image/png": "[encoded data removed]",
      "text/plain": [
       "<Figure size 432x288 with 1 Axes>"
      ]
     },
     "metadata": {
      "needs_background": "light"
     },
     "output_type": "display_data"
    }
   ],
   "source": [
    "#Graph to show Variance vs input size\n",
    "y=[vrnc1,vrnc2,vrnc3,vrnc4]\n",
    "p1=plt.plot(inp_sizes[0:4:1],y)\n",
    "plt.xlabel(\"Input sizes\")\n",
    "plt.ylabel(\"Variances\")\n",
    "plt.show()"
   ]
  },
  {
   "cell_type": "code",
   "execution_count": 10,
   "id": "17faf30c",
   "metadata": {},
   "outputs": [
    {
     "data": {
      "text/plain": [
       "<matplotlib.legend.Legend at 0x286c3671668>"
      ]
     },
     "execution_count": 10,
     "metadata": {},
     "output_type": "execute_result"
    },
    {
     "data": {
      "image/png": "[encoded data removed]",
      "text/plain": [
       "<Figure size 432x288 with 1 Axes>"
      ]
     },
     "metadata": {
      "needs_background": "light"
     },
     "output_type": "display_data"
    }
   ],
   "source": [
    "#Graph to show trends in variance and execution time as n increases\n",
    "p=plt.plot(inp_sizes,y)\n",
    "p=plt.plot(inp_sizes,ex_t)\n",
    "plt.legend([\"Variance\",\"Execution time\"])"
   ]
  },
  {
   "cell_type": "markdown",
   "id": "28888907",
   "metadata": {},
   "source": [
    "The variance in the execution time for quick sort increases rapidly as the input size (n) increases. In fact, it increases at a faster rate than execution time. Quick sort is notoriously known for its variance in execution time.\n",
    "\n",
    "This is because we always choose the pivot to be the last element. If the pivot is the smallest or the largest element of the set, then it corresponds to worst case and execution time increases. If the pivot is the middle element (when sorted), the execution time is very less and this corresponds to the best case.\n",
    "\n",
    "Time complexity analysis:\n",
    "\n",
    "1. Execution time - Average case = O(nlogn) and worst case = O(n^2)\n",
    "\n",
    "2. Variance in execution time (for given n) = O(n^2)\n"
   ]
  },
  {
   "cell_type": "code",
   "execution_count": null,
   "id": "16ee0e9d",
   "metadata": {},
   "outputs": [],
   "source": []
  }
 ],
 "metadata": {
  "kernelspec": {
   "display_name": "Python 3",
   "language": "python",
   "name": "python3"
  },
  "language_info": {
   "codemirror_mode": {
    "name": "ipython",
    "version": 3
   },
   "file_extension": ".py",
   "mimetype": "text/x-python",
   "name": "python",
   "nbconvert_exporter": "python",
   "pygments_lexer": "ipython3",
   "version": "3.6.13"
  }
 },
 "nbformat": 4,
 "nbformat_minor": 5
}
