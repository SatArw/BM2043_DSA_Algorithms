{
 "cells": [
  {
   "cell_type": "code",
   "execution_count": 12,
   "id": "12dd95ee",
   "metadata": {},
   "outputs": [],
   "source": [
    "import math\n",
    "import numpy as np\n",
    "import random as rnd\n",
    "import time\n",
    "from statistics import mean"
   ]
  },
  {
   "cell_type": "code",
   "execution_count": 13,
   "id": "1bb638e6",
   "metadata": {},
   "outputs": [],
   "source": [
    "def combine_k(list_of_arrays,k):\n",
    "    #We store elements in sorted order in the final_array\n",
    "    final_array=[]\n",
    "    \n",
    "    #cont is variable that decides how long to perform the merge\n",
    "    cont=True\n",
    "    while(cont):\n",
    "        #We input the first elements of all the arrays in elements_considered\n",
    "        elements_considered=[]\n",
    "        for i in range(k):\n",
    "            if(len(list_of_arrays[i])!=0):\n",
    "                inputter=[i,list_of_arrays[i][0]]\n",
    "                elements_considered.append(inputter)\n",
    "    \n",
    "        #\"smol\" indicates the index of smallest element in \"elements_considered\"\n",
    "        smol=0 \n",
    "        for i in range(len(elements_considered)):\n",
    "            if(elements_considered[i][1]<elements_considered[smol][1]):\n",
    "                smol=i\n",
    "        \n",
    "        #We then append the smallest element to the \"final_array\"\n",
    "        final_array.append(elements_considered[smol][1])\n",
    "        \n",
    "        #We find the index of the array that had the smallest element and store it in \"smol_arr\"\n",
    "        for i in range(k):\n",
    "            if(len(list_of_arrays[i])!=0):\n",
    "                \n",
    "                if(list_of_arrays[i][0]==elements_considered[smol][1]):\n",
    "                    smol_arr=i\n",
    "                    break\n",
    "        \n",
    "        #We pop the smallest element out of the corresponding array(in \"list_of_arrays\") using \"smol_arr\"\n",
    "        list_of_arrays[smol_arr].pop(0)\n",
    "        \n",
    "        #Since the arrays have been re-structured, we have to evaluate \"cont\" again\n",
    "        cont=False\n",
    "        for i in range(k):\n",
    "            if(len(list_of_arrays[i])!=0):\n",
    "                cont=True\n",
    "                break\n",
    "        \n",
    "    return final_array\n",
    "        \n",
    "\n",
    "def k_merge_sort(A,k):\n",
    "    l=0\n",
    "    r=len(A)\n",
    "    if(l==r):\n",
    "        C=[]\n",
    "        C.append(A[l])\n",
    "        return C\n",
    "\n",
    "    if(len(A)<=k):\n",
    "        A.sort()\n",
    "        return A \n",
    "    k_split_array=(np.array_split(A,k))\n",
    "    k_split_sorted_array=[]\n",
    "    for i in range(len(k_split_array)):\n",
    "        temp=k_merge_sort(list(k_split_array[i]),k)\n",
    "        k_split_sorted_array.append(temp)\n",
    "    sorted_arr = combine_k(k_split_sorted_array,k)\n",
    "    return sorted_arr\n",
    "            \n",
    "                \n",
    "        \n",
    "    \n",
    "    "
   ]
  },
  {
   "cell_type": "code",
   "execution_count": 14,
   "id": "b0931f48",
   "metadata": {
    "scrolled": true
   },
   "outputs": [],
   "source": [
    "n=30\n",
    "arr=[]\n",
    "for i in range(n):\n",
    "    arr.append(rnd.randint(-10000,10000))"
   ]
  },
  {
   "cell_type": "code",
   "execution_count": 15,
   "id": "3e49ccff",
   "metadata": {},
   "outputs": [
    {
     "name": "stdout",
     "output_type": "stream",
     "text": [
      "[-5050, -7045, 5820, 6448, 3943, 465, 7164, 4083, -9905, 1434, 1176, -2509, -6631, -5180, 8010, -1056, -673, -6098, -4012, 4439, 7006, -4245, 837, -9506, -3625, 3936, 1524, 8503, 6698, 6105]\n",
      "[-9905, -9506, -7045, -6631, -6098, -5180, -5050, -4245, -4012, -3625, -2509, -1056, -673, 465, 837, 1176, 1434, 1524, 3936, 3943, 4083, 4439, 5820, 6105, 6448, 6698, 7006, 7164, 8010, 8503]\n"
     ]
    }
   ],
   "source": [
    "print(arr)\n",
    "sorted_arr=k_merge_sort(arr,3)\n",
    "print(sorted_arr)"
   ]
  },
  {
   "cell_type": "markdown",
   "id": "debfd560",
   "metadata": {},
   "source": [
    "The time required for sorting an array of size N, by using merge sort (dividing it into k parts) is given by\n",
    "\n",
    "T(N) = k*T(N/k) + O(N)\n",
    "\n",
    "Merging the sorted arrays together is the major time-consuming task. This is done most efficiently when there are only 2 arrays to be merged every time. \n",
    "\n",
    "Hence best case time complexity is achieved when k=2 "
   ]
  },
  {
   "cell_type": "code",
   "execution_count": 16,
   "id": "401ffd5c",
   "metadata": {},
   "outputs": [
    {
     "name": "stdout",
     "output_type": "stream",
     "text": [
      "[[2, 4.593253877427843], [3, 2.999201430214776], [4, 2.598708391189575], [5, 2.4894458452860513], [6, 2.149919377432929], [7, 1.9011315239800348], [8, 2.0571639272901745], [9, 2.249975654813978]]\n"
     ]
    }
   ],
   "source": [
    "m=100000\n",
    "a=[]\n",
    "ex_tm=[]\n",
    "for i in range(m):\n",
    "    a.append(rnd.randint(-10000,10000))\n",
    "for k in range(2,10):\n",
    "    times=[]\n",
    "    for test in range(10):\n",
    "        start=time.time()\n",
    "        k_merge_sort(a,k)\n",
    "        times.append(time.time()-start)\n",
    "    ex_tm.append([k,mean(times[1:10:1])])\n",
    "print(ex_tm)\n",
    "    "
   ]
  },
  {
   "cell_type": "code",
   "execution_count": null,
   "id": "f35b7e37",
   "metadata": {},
   "outputs": [],
   "source": []
  }
 ],
 "metadata": {
  "kernelspec": {
   "display_name": "Python 3",
   "language": "python",
   "name": "python3"
  },
  "language_info": {
   "codemirror_mode": {
    "name": "ipython",
    "version": 3
   },
   "file_extension": ".py",
   "mimetype": "text/x-python",
   "name": "python",
   "nbconvert_exporter": "python",
   "pygments_lexer": "ipython3",
   "version": "3.6.13"
  }
 },
 "nbformat": 4,
 "nbformat_minor": 5
}
