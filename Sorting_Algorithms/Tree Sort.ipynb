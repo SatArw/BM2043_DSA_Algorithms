{
 "cells": [
  {
   "cell_type": "code",
   "execution_count": 2,
   "id": "1ebb538c",
   "metadata": {},
   "outputs": [],
   "source": [
    "import random as rnd\n",
    "import math"
   ]
  },
  {
   "cell_type": "code",
   "execution_count": 3,
   "id": "8aba8aa7",
   "metadata": {},
   "outputs": [
    {
     "name": "stdout",
     "output_type": "stream",
     "text": [
      "Array before sorting [764, -480, 143, 353, 602, 641, -629, 487, -731, 978]\n",
      "Array after Tree sort [-731, -629, -480, 143, 353, 487, 602, 641, 764, 978]\n"
     ]
    }
   ],
   "source": [
    "#TREE SORT\n",
    "#Define a class for node\n",
    "class node:\n",
    "    def __init__(self,key):\n",
    "        self.left=None\n",
    "        self.right=None\n",
    "        self.val=key\n",
    "#Function to insert a new node(number)        \n",
    "def insert(root,key):\n",
    "    if root is None:\n",
    "        return node(key)\n",
    "    else:\n",
    "        if(root.val==key):\n",
    "            return root\n",
    "        elif(root.val>key):\n",
    "            root.left=insert(root.left,key)\n",
    "        else:\n",
    "            root.right=insert(root.right,key)\n",
    "    return root\n",
    "#Function for inorder traversal\n",
    "def inorder_traversal(root,new_arr):\n",
    "    if root:\n",
    "        inorder_traversal(root.left,new_arr)\n",
    "        new_arr.append(root.val)\n",
    "        inorder_traversal(root.right,new_arr)\n",
    "\n",
    "arr=[]\n",
    "n=10\n",
    "\n",
    "for i in range(n):\n",
    "    temp=rnd.randint(-(100*n),(100*n))\n",
    "    if(i==0):\n",
    "        r=node(temp)\n",
    "    else:\n",
    "        r=insert(r,temp)\n",
    "    arr.append(temp)\n",
    "print(\"Array before sorting\",arr)\n",
    "new_arr=[]\n",
    "inorder_traversal(r,new_arr)\n",
    "print(\"Array after Tree sort\",new_arr)\n"
   ]
  },
  {
   "cell_type": "code",
   "execution_count": null,
   "id": "1cb3dad3",
   "metadata": {},
   "outputs": [],
   "source": []
  }
 ],
 "metadata": {
  "kernelspec": {
   "display_name": "Python 3",
   "language": "python",
   "name": "python3"
  },
  "language_info": {
   "codemirror_mode": {
    "name": "ipython",
    "version": 3
   },
   "file_extension": ".py",
   "mimetype": "text/x-python",
   "name": "python",
   "nbconvert_exporter": "python",
   "pygments_lexer": "ipython3",
   "version": "3.6.13"
  }
 },
 "nbformat": 4,
 "nbformat_minor": 5
}
