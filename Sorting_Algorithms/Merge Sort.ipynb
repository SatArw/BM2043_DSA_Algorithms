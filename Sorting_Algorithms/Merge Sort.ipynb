{
 "cells": [
  {
   "cell_type": "code",
   "execution_count": 1,
   "id": "9b06f2fd",
   "metadata": {},
   "outputs": [],
   "source": [
    "import math\n",
    "def cmbn(A,B): #Function to combine two sequences(sorted) into a single sorted sequence\n",
    "\n",
    "    C=[]\n",
    "    while(len(A)>0 or len(B)>0):\n",
    "        if(len(A)==0 and len(B)>0):\n",
    "            C.append(B[0])\n",
    "            B.pop(0)\n",
    "            \n",
    "        if(len(B)==0 and len(A)>0):\n",
    "            C.append(A[0])\n",
    "            A.pop(0)\n",
    "            \n",
    "\n",
    "        if(len(A)>0 and len(B)>0 and A[0]<B[0]): #The smallest between the first elements of A and B is appended to C\n",
    "            C.append(A[0]) #The element appended is deleted from original array passed to the function\n",
    "            A.pop(0)\n",
    "        else:\n",
    "            if(len(B)>0):\n",
    "\n",
    "                C.append(B[0])\n",
    "                B.pop(0)\n",
    "    return C\n",
    "\n",
    "\n",
    "def merge_sort(A,l,r):\n",
    "    if(l<=r):\n",
    "\n",
    "        if(l==r):\n",
    "            C=[]\n",
    "            C.append(A[l])\n",
    "            return C\n",
    "        \n",
    "        if((l==r-1) and r<len(A)):\n",
    "            C=[]\n",
    "            C.append(min(A[l],A[r]))\n",
    "            C.append(max(A[l],A[r]))\n",
    "            return C\n",
    "        \n",
    "        m=math.floor(l+(r-l+1)/2)\n",
    "        #Now the array is divided into two halves, the halves are sorted individually and merged into one single sorted array\n",
    "        if(m==r):\n",
    "            B=merge_sort(A,l,m-1) #left half\n",
    "        else:\n",
    "            B=merge_sort(A,l,m) \n",
    "        C=merge_sort(A,m+1,r)  #right half \n",
    "        D=cmbn(B,C) #Calling the combining function\n",
    "        return D\n",
    "    "
   ]
  },
  {
   "cell_type": "code",
   "execution_count": 2,
   "id": "631ed5a6",
   "metadata": {},
   "outputs": [],
   "source": [
    "inp_sizes = [10,50,100,500,1000,5000,10000]\n",
    "import random as rnd\n",
    "import matplotlib.pyplot as plt\n",
    "import time"
   ]
  },
  {
   "cell_type": "code",
   "execution_count": 3,
   "id": "5771008c",
   "metadata": {},
   "outputs": [
    {
     "name": "stdout",
     "output_type": "stream",
     "text": [
      "Before sorting [821243, 839120, 528080, 473605, 20388, 651233, 623694, 478885, 634537, 210009]\n",
      "After sorting [20388, 210009, 473605, 478885, 528080, 623694, 634537, 651233, 821243, 839120]\n"
     ]
    }
   ],
   "source": [
    "size=10\n",
    "A=[]\n",
    "for i in range(size):\n",
    "    A.append(rnd.randint(0,1000000))\n",
    "print(\"Before sorting\",A)\n",
    "B=merge_sort(A,0,size-1)\n",
    "print(\"After sorting\",B)"
   ]
  },
  {
   "cell_type": "code",
   "execution_count": 4,
   "id": "5ba58b83",
   "metadata": {},
   "outputs": [
    {
     "name": "stdout",
     "output_type": "stream",
     "text": [
      "Time needed to execute [0.0, 0.0, 0.000997781753540039, 0.0029916763305664062, 0.00498652458190918, 0.03390955924987793, 0.07602477073669434]\n"
     ]
    }
   ],
   "source": [
    "ms_t=[]\n",
    "for n in inp_sizes:\n",
    "    arr=[]\n",
    "    for i in range(n):\n",
    "        arr.append(rnd.randint(0,1000000))\n",
    "    start_time=time.time()\n",
    "    arr1=merge_sort(arr,0,n-1)\n",
    "    end_time=time.time()\n",
    "    ms_t.append(end_time-start_time)\n",
    "print(\"Time needed to execute\",ms_t)"
   ]
  },
  {
   "cell_type": "code",
   "execution_count": 5,
   "id": "74152593",
   "metadata": {},
   "outputs": [
    {
     "data": {
      "image/png": "[encoded data removed]",
      "text/plain": [
       "<Figure size 432x288 with 1 Axes>"
      ]
     },
     "metadata": {
      "needs_background": "light"
     },
     "output_type": "display_data"
    }
   ],
   "source": [
    "p1=plt.plot(inp_sizes,ms_t)\n",
    "plt.xlabel(\"Input sizes\")\n",
    "plt.ylabel(\"Execution time\")\n",
    "plt.show()"
   ]
  },
  {
   "cell_type": "code",
   "execution_count": 13,
   "id": "f28e9962",
   "metadata": {},
   "outputs": [
    {
     "name": "stdout",
     "output_type": "stream",
     "text": [
      "Array size: 10000\n",
      "Execution times: [0.07479977607727051, 0.07676410675048828, 0.08078360557556152, 0.07779192924499512, 0.08078455924987793, 0.07579708099365234, 0.07483339309692383, 0.07280325889587402, 0.07676386833190918, 0.07682991027832031]\n",
      "Variance: 6.39791410827052e-06\n"
     ]
    }
   ],
   "source": [
    "n=10000\n",
    "arr=[]\n",
    "exec_times=[]\n",
    "for i in range(n):\n",
    "    arr.append(rnd.randint(-1000,1000))\n",
    "for tests in range(10):\n",
    "    start=time.time()\n",
    "    merge_sort(arr,0,n-1)\n",
    "    end=time.time()\n",
    "    exec_times.append(end-start)\n",
    "print(\"Array size:\",n)\n",
    "print(\"Execution times:\",exec_times)\n",
    "import statistics\n",
    "vrnc = statistics.variance(exec_times)\n",
    "print(\"Variance:\",vrnc)"
   ]
  },
  {
   "cell_type": "code",
   "execution_count": null,
   "id": "31f6b38b",
   "metadata": {},
   "outputs": [],
   "source": []
  },
  {
   "cell_type": "code",
   "execution_count": null,
   "id": "78f6171f",
   "metadata": {},
   "outputs": [],
   "source": []
  }
 ],
 "metadata": {
  "kernelspec": {
   "display_name": "Python 3",
   "language": "python",
   "name": "python3"
  },
  "language_info": {
   "codemirror_mode": {
    "name": "ipython",
    "version": 3
   },
   "file_extension": ".py",
   "mimetype": "text/x-python",
   "name": "python",
   "nbconvert_exporter": "python",
   "pygments_lexer": "ipython3",
   "version": "3.6.13"
  }
 },
 "nbformat": 4,
 "nbformat_minor": 5
}
