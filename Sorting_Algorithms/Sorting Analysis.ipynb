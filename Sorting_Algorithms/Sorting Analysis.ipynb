{
 "cells": [
  {
   "cell_type": "code",
   "execution_count": 3,
   "id": "4176fd6f",
   "metadata": {},
   "outputs": [],
   "source": [
    "def bubble_sort(arr,n):\n",
    "    i=0\n",
    "    cmp=0 \n",
    "    swaps=0\n",
    "    while(i<n):\n",
    "        j=0\n",
    "        while(j<n-1-i):\n",
    "            cmp+=1\n",
    "            if(arr[j]>arr[j+1]):\n",
    "                swaps+=1\n",
    "                temp=arr[j]\n",
    "                arr[j]=arr[j+1]\n",
    "                arr[j+1]=temp\n",
    "            j+=1\n",
    "        i+=1\n",
    "    return cmp,swaps  \n",
    "def insertion_sort(arr,n):\n",
    "    i=0\n",
    "    cmp=0\n",
    "    swaps=0\n",
    "    while(i<n):\n",
    "        j=i\n",
    "        while(j>0):\n",
    "            cmp+=1\n",
    "            if(arr[j]<arr[j-1]):\n",
    "                swaps+=1\n",
    "                temp=arr[j]\n",
    "                arr[j]=arr[j-1]\n",
    "                arr[j-1]=temp\n",
    "            j-=1\n",
    "        i+=1\n",
    "    return cmp,swaps\n",
    "\n",
    "def selection_sort(arr,n):\n",
    "    cmp=0\n",
    "    swaps=0\n",
    "    for i in range(n):\n",
    "        min_idx=i\n",
    "        for j in range(i+1,n):\n",
    "            cmp+=1\n",
    "            if(arr[min_idx]>arr[j]):\n",
    "                min_idx=j\n",
    "        swaps+=1        \n",
    "        arr[min_idx],arr[i]=arr[i],arr[min_idx] \n",
    "    return cmp,swaps"
   ]
  },
  {
   "cell_type": "code",
   "execution_count": 4,
   "id": "83fb59bc",
   "metadata": {},
   "outputs": [],
   "source": [
    "inp_sizes = [10,50,100,500,1000,5000,10000]\n",
    "import random as rnd\n",
    "import matplotlib.pyplot as plt"
   ]
  },
  {
   "cell_type": "code",
   "execution_count": 5,
   "id": "8d1cd9ad",
   "metadata": {},
   "outputs": [
    {
     "name": "stdout",
     "output_type": "stream",
     "text": [
      "Insertion sort\n",
      "Comparisons: [45, 1225, 4950, 124750, 499500, 12497500, 49995000]\n",
      "Swaps: [21, 532, 2418, 58870, 241160, 6171277, 25066230]\n"
     ]
    }
   ],
   "source": [
    "#insertion sort\n",
    "is_s=[]\n",
    "is_c=[]\n",
    "for n in inp_sizes:\n",
    "    arr=[]\n",
    "    for i in range(n):\n",
    "        arr.append(rnd.randint(0,1000000))\n",
    "    cmps,swps=insertion_sort(arr,n)\n",
    "    is_s.append(swps)\n",
    "    is_c.append(cmps)\n",
    "print(\"Insertion sort\")\n",
    "print(\"Comparisons:\",is_c)\n",
    "print(\"Swaps:\",is_s)"
   ]
  },
  {
   "cell_type": "code",
   "execution_count": 6,
   "id": "3ba7d9eb",
   "metadata": {},
   "outputs": [
    {
     "name": "stdout",
     "output_type": "stream",
     "text": [
      "Bubble sort\n",
      "Comparisons: [45, 1225, 4950, 124750, 499500, 12497500, 49995000]\n",
      "Swaps: [25, 580, 2447, 60017, 259693, 6230731, 25093201]\n"
     ]
    }
   ],
   "source": [
    "#bubble sort\n",
    "bs_s=[]\n",
    "bs_c=[]\n",
    "for n in inp_sizes:\n",
    "    arr=[]\n",
    "    for i in range(n):\n",
    "        arr.append(rnd.randint(0,1000000))\n",
    "    cmps,swps=bubble_sort(arr,n)\n",
    "    bs_s.append(swps)\n",
    "    bs_c.append(cmps)\n",
    "print(\"Bubble sort\")\n",
    "print(\"Comparisons:\",bs_c)\n",
    "print(\"Swaps:\",bs_s)"
   ]
  },
  {
   "cell_type": "code",
   "execution_count": 7,
   "id": "ce60a21f",
   "metadata": {},
   "outputs": [
    {
     "name": "stdout",
     "output_type": "stream",
     "text": [
      "Selection sort\n",
      "Comparisons: [45, 1225, 4950, 124750, 499500, 12497500, 49995000]\n",
      "Swaps: [10, 50, 100, 500, 1000, 5000, 10000]\n"
     ]
    }
   ],
   "source": [
    "#selection sort\n",
    "ss_s=[]\n",
    "ss_c=[]\n",
    "for n in inp_sizes:\n",
    "    arr=[]\n",
    "    for i in range(n):\n",
    "        arr.append(rnd.randint(0,1000000))\n",
    "    cmps,swps=selection_sort(arr,n)\n",
    "    ss_s.append(swps)\n",
    "    ss_c.append(cmps)\n",
    "print(\"Selection sort\")\n",
    "print(\"Comparisons:\",ss_c)\n",
    "print(\"Swaps:\",ss_s)"
   ]
  },
  {
   "cell_type": "code",
   "execution_count": 8,
   "id": "85df05eb",
   "metadata": {},
   "outputs": [
    {
     "data": {
      "text/plain": [
       "<matplotlib.legend.Legend at 0x20508ae8ac8>"
      ]
     },
     "execution_count": 8,
     "metadata": {},
     "output_type": "execute_result"
    },
    {
     "data": {
      "image/png": "[encoded data removed]",
      "text/plain": [
       "<Figure size 432x288 with 1 Axes>"
      ]
     },
     "metadata": {
      "needs_background": "light"
     },
     "output_type": "display_data"
    }
   ],
   "source": [
    "#Graph of no_of_comparisons for all algorithms\n",
    "plt.plot(inp_sizes,is_c)\n",
    "plt.plot(inp_sizes,bs_c)\n",
    "plt.plot(inp_sizes,ss_c)\n",
    "plt.xlabel(\"Input sizes\")\n",
    "plt.ylabel(\"Comparisons\")\n",
    "plt.legend([\"Insertion\",\"Bubble\",\"Selection\"])"
   ]
  },
  {
   "cell_type": "code",
   "execution_count": 9,
   "id": "60b49e25",
   "metadata": {},
   "outputs": [
    {
     "data": {
      "text/plain": [
       "<matplotlib.legend.Legend at 0x20509290898>"
      ]
     },
     "execution_count": 9,
     "metadata": {},
     "output_type": "execute_result"
    },
    {
     "data": {
      "image/png": "[encoded data removed]",
      "text/plain": [
       "<Figure size 432x288 with 1 Axes>"
      ]
     },
     "metadata": {
      "needs_background": "light"
     },
     "output_type": "display_data"
    }
   ],
   "source": [
    "#Graph of no_of_swaps for all algorithms\n",
    "plt.plot(inp_sizes,is_s)\n",
    "plt.plot(inp_sizes,bs_s)\n",
    "plt.plot(inp_sizes,ss_s)\n",
    "plt.xlabel(\"Input sizes\")\n",
    "plt.ylabel(\"Swaps\")\n",
    "plt.legend([\"Insertion\",\"Bubble\",\"Selection\"])"
   ]
  },
  {
   "cell_type": "code",
   "execution_count": 10,
   "id": "726963e1",
   "metadata": {},
   "outputs": [],
   "source": [
    "import time\n",
    "def insertion_sort_timer(arr,n):\n",
    "    start_time=time.time()\n",
    "    i=0\n",
    "    while(i<n):\n",
    "        j=i\n",
    "        while(j>0):\n",
    "            if(arr[j]<arr[j-1]):\n",
    "                temp=arr[j]\n",
    "                arr[j]=arr[j-1]\n",
    "                arr[j-1]=temp\n",
    "            j-=1\n",
    "        i+=1\n",
    "    return (time.time()-start_time)\n",
    "\n",
    "def selection_sort_timer(arr,n):\n",
    "    start_time=time.time()\n",
    "    for i in range(n):\n",
    "        min_idx=i\n",
    "        for j in range(i+1,n):\n",
    "            \n",
    "            if(arr[min_idx]>arr[j]):\n",
    "                min_idx=j\n",
    "               \n",
    "        arr[min_idx],arr[i]=arr[i],arr[min_idx] \n",
    "    return (time.time()-start_time)\n",
    "\n",
    "def bubble_sort_timer(arr,n):\n",
    "    start_time = time.time()\n",
    "    i=0\n",
    "    while(i<n):\n",
    "        j=0\n",
    "        while(j<n-1-i):\n",
    "            if(arr[j]>arr[j+1]):\n",
    "                temp=arr[j]\n",
    "                arr[j]=arr[j+1]\n",
    "                arr[j+1]=temp\n",
    "            j+=1\n",
    "        i+=1\n",
    "    return (time.time()-start_time)"
   ]
  },
  {
   "cell_type": "code",
   "execution_count": 11,
   "id": "9d16af73",
   "metadata": {},
   "outputs": [
    {
     "name": "stdout",
     "output_type": "stream",
     "text": [
      "Times required\n",
      "Bubble sort: [0.0, 0.0, 0.0, 0.016915321350097656, 0.06512999534606934, 1.684497594833374, 6.939429759979248]\n",
      "Selection sort: [0.0, 0.0, 0.0, 0.005026340484619141, 0.021941423416137695, 0.5375559329986572, 2.2469842433929443]\n",
      "Insertion sort: [0.0, 0.0010025501251220703, 0.0009920597076416016, 0.010008096694946289, 0.03889822959899902, 1.0841064453125, 4.439106464385986]\n"
     ]
    },
    {
     "data": {
      "text/plain": [
       "<matplotlib.legend.Legend at 0x2050931e748>"
      ]
     },
     "execution_count": 11,
     "metadata": {},
     "output_type": "execute_result"
    },
    {
     "data": {
      "image/png": "[encoded data removed]",
      "text/plain": [
       "<Figure size 432x288 with 1 Axes>"
      ]
     },
     "metadata": {
      "needs_background": "light"
     },
     "output_type": "display_data"
    }
   ],
   "source": [
    "bst=[]\n",
    "sst=[]\n",
    "ist=[]\n",
    "for n in inp_sizes:\n",
    "    arr=[]\n",
    "    for i in range(n):\n",
    "        arr.append(rnd.randint(0,1000000))\n",
    "    t1=selection_sort_timer(arr,n)\n",
    "    t2=bubble_sort_timer(arr,n)\n",
    "    t3=insertion_sort_timer(arr,n)\n",
    "    bst.append(t2)\n",
    "    sst.append(t1)\n",
    "    ist.append(t3)\n",
    "print(\"Times required\")\n",
    "print(\"Bubble sort:\",bst)\n",
    "print(\"Selection sort:\",sst)\n",
    "print(\"Insertion sort:\",ist)\n",
    "plt.plot(inp_sizes,bst)\n",
    "plt.plot(inp_sizes,sst)\n",
    "plt.plot(inp_sizes,ist)\n",
    "plt.xlabel(\"Input sizes\")\n",
    "plt.ylabel(\"Time for execution\")\n",
    "plt.legend([\"Bubble\",\"Selection\",\"Insertion\"])\n"
   ]
  },
  {
   "cell_type": "code",
   "execution_count": null,
   "id": "b2596c91",
   "metadata": {},
   "outputs": [],
   "source": []
  }
 ],
 "metadata": {
  "kernelspec": {
   "display_name": "Python 3",
   "language": "python",
   "name": "python3"
  },
  "language_info": {
   "codemirror_mode": {
    "name": "ipython",
    "version": 3
   },
   "file_extension": ".py",
   "mimetype": "text/x-python",
   "name": "python",
   "nbconvert_exporter": "python",
   "pygments_lexer": "ipython3",
   "version": "3.6.13"
  }
 },
 "nbformat": 4,
 "nbformat_minor": 5
}
