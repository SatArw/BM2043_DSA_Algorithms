{
 "cells": [
  {
   "cell_type": "code",
   "execution_count": 7,
   "id": "0929976f",
   "metadata": {
    "colab": {
     "base_uri": "https://localhost:8080/"
    },
    "executionInfo": {
     "elapsed": 358,
     "status": "ok",
     "timestamp": 1633030856259,
     "user": {
      "displayName": "SATWIK ARAWALLI",
      "photoUrl": "https://lh3.googleusercontent.com/a/default-user=s64",
      "userId": "17445011917307439824"
     },
     "user_tz": -330
    },
    "id": "0929976f",
    "outputId": "15d64114-c0ae-43a9-bb7b-182b6e12c805"
   },
   "outputs": [
    {
     "name": "stdout",
     "output_type": "stream",
     "text": [
      "Element is present at index 8\n"
     ]
    }
   ],
   "source": [
    "\n",
    "# code to return index of element if present. If element isn't present then returns -1\n",
    "def binsearch(arr, x):\n",
    "    l = 0\n",
    "    r = len(arr) - 1\n",
    "    mid = 0\n",
    " \n",
    "    while l <= r:\n",
    "\n",
    "        mid = (r + l) // 2\n",
    " \n",
    "        # if x > mid element, then x lies on the right\n",
    "        if arr[mid] < x:\n",
    "            l = mid + 1\n",
    " \n",
    "        # If x is smaller, ignore right half\n",
    "        elif arr[mid] > x:\n",
    "            r = mid - 1\n",
    " \n",
    "        # x might be equal to mid element\n",
    "        else:\n",
    "            return mid\n",
    " \n",
    "    # This return statement will only be executed if x is not present\n",
    "    return -1\n",
    " \n",
    " \n",
    "#sample array\n",
    "array = [-56, -30, -13, -6, -3, -2, 0, 11, 24, 34, 91, 230, 700, 1040, 69420]\n",
    "x = 24\n",
    "\n",
    " \n",
    "# Function call\n",
    "result = binsearch(array, x)\n",
    " \n",
    "if result != -1:\n",
    "    print(\"Element is present at index\", str(result))\n",
    "else:\n",
    "    print(\"Element is not present in array\")"
   ]
  },
  {
   "cell_type": "code",
   "execution_count": 6,
   "id": "cf050087",
   "metadata": {
    "colab": {
     "base_uri": "https://localhost:8080/"
    },
    "executionInfo": {
     "elapsed": 513,
     "status": "ok",
     "timestamp": 1633030385163,
     "user": {
      "displayName": "SATWIK ARAWALLI",
      "photoUrl": "https://lh3.googleusercontent.com/a/default-user=s64",
      "userId": "17445011917307439824"
     },
     "user_tz": -330
    },
    "id": "cf050087",
    "outputId": "b6bf6c38-eab8-49bd-8d28-e20d8253aadd"
   },
   "outputs": [
    {
     "name": "stdout",
     "output_type": "stream",
     "text": [
      "[-56, -30, -13, -6, -3, -2, 0, 11, 24, 34, 91, 230, 700, 1040, 69420]\n",
      "l initialized to-> 0 arr[l]= -56  :r initialized to-> 14 arr[r]= 69420\n",
      "value of mid-> 7  :comparing element with(arr[mid]-> 11\n",
      "moving to the left side...\n",
      "l initialized to-> 0 arr[l]= -56  :r initialized to-> 6 arr[r]= 0\n",
      "value of mid-> 3  :comparing element with(arr[mid]-> -6\n",
      "moving to the right side...\n",
      "l initialized to-> 4 arr[l]= -3  :r initialized to-> 6 arr[r]= 0\n",
      "value of mid-> 5  :comparing element with(arr[mid]-> -2\n",
      "moving to the right side...\n",
      "l initialized to-> 6 arr[l]= 0  :r initialized to-> 6 arr[r]= 0\n",
      "value of mid-> 6  :comparing element with(arr[mid]-> 0\n",
      "moving to the right side...\n",
      "Search space shrinked to single index, does not match with the element...\n",
      "Element is not present in array\n"
     ]
    }
   ],
   "source": [
    "\"\"\"\"This is the same code as above, but with some indicator outputs to show how the algorithm works when finding\n",
    "an element that isn't present in the array\"\"\"\n",
    "\n",
    "\"\"\"\"Please run this code with a value not present in the array to see the execution\"\"\"\n",
    "\n",
    "\n",
    "# code to return index of element if present. If element isn't present then returns -1\n",
    "def binsearch(arr, x):\n",
    "    l = 0\n",
    "    r = len(arr) - 1\n",
    "    mid = 0\n",
    " \n",
    "    while l <= r:\n",
    "        \n",
    "        print(\"l initialized to->\",l,\"arr[l]=\",arr[l],\" :r initialized to->\",r,\"arr[r]=\",arr[r])\n",
    "        \n",
    "        mid = (r + l) // 2\n",
    "        print(\"value of mid->\",mid,\" :comparing element with(arr[mid]->\",arr[mid])\n",
    "        \n",
    " \n",
    "        # if x > mid element, then x lies on the right\n",
    "        if arr[mid] < x:\n",
    "            print(\"moving to the right side...\")\n",
    "            l = mid + 1\n",
    " \n",
    "        # If x is smaller, ignore right half\n",
    "        elif arr[mid] > x:\n",
    "            print(\"moving to the left side...\")\n",
    "            r = mid - 1\n",
    " \n",
    "        # x might be equal to mid element\n",
    "        else:\n",
    "            print(\"element is found\")\n",
    "            return mid\n",
    " \n",
    "    # This return statement will only be executed if x is not present\n",
    "    print(\"Search space shrinked to single index, does not match with the element...\")\n",
    "    return -1\n",
    " \n",
    " \n",
    "#sample array\n",
    "array = [-56, -30, -13, -6, -3, -2, 0, 11, 24, 34, 91, 230, 700, 1040, 69420]\n",
    "x = 2 #Change the value of element to be searched if required\n",
    "print(array)\n",
    "# Function call\n",
    "result = binsearch(array, x)\n",
    " \n",
    "if result != -1:\n",
    "    print(\"Element is present at index\", str(result))\n",
    "else:\n",
    "    print(\"Element is not present in array\")"
   ]
  },
  {
   "cell_type": "markdown",
   "id": "a523194f",
   "metadata": {
    "id": "a523194f"
   },
   "source": [
    "The loop invariant property : \"The element is present in the array\"\n",
    "\n",
    "Assume the array is sorted in ascending order, we initialize the left and right index to 0 and (size-1) respectively.\n",
    "\n",
    "We know that the element is present somewhere in the array and since the array is sorted we can compare the element with the middle element of the array.\n",
    "\n",
    "If it is smaller than the middle element of the array, we can deduce that the element will be present on the left side of the array (in between the first(smallest) element and the mid(now largest) element).\n",
    "\n",
    "a[0] <= element <= a[mid]\n",
    "\n",
    "Or if the element is greater than the middle element, then by similar arguments we can deduce that the element will be on the right side of the array\n",
    "\n",
    "a[mid] <= element <= a[SIZE-1]\n",
    "\n",
    "\"Either way, one thing remains certain, the element is present in the array for sure, this property does not change as we keep moving left or right by reducing the search space\"\n",
    "\n",
    "Eventually the search space reduces to one single element, then we compare the element to be found with it and return the index."
   ]
  },
  {
   "cell_type": "code",
   "execution_count": null,
   "id": "c26bf3e5",
   "metadata": {
    "id": "c26bf3e5"
   },
   "outputs": [],
   "source": []
  }
 ],
 "metadata": {
  "colab": {
   "collapsed_sections": [],
   "name": "BinarySearch.ipynb",
   "provenance": []
  },
  "kernelspec": {
   "display_name": "Python 3",
   "language": "python",
   "name": "python3"
  },
  "language_info": {
   "codemirror_mode": {
    "name": "ipython",
    "version": 3
   },
   "file_extension": ".py",
   "mimetype": "text/x-python",
   "name": "python",
   "nbconvert_exporter": "python",
   "pygments_lexer": "ipython3",
   "version": "3.6.13"
  }
 },
 "nbformat": 4,
 "nbformat_minor": 5
}
