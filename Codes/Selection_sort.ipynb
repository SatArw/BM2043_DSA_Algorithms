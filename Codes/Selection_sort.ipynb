{
 "cells": [
  {
   "cell_type": "code",
   "execution_count": 3,
   "id": "72a70aed",
   "metadata": {},
   "outputs": [],
   "source": [
    "def selection_sort(arr,n):\n",
    "    for i in range(n):\n",
    "        min_idx=i\n",
    "        for j in range(i+1,n):\n",
    "            if(arr[min_idx]>arr[j]):\n",
    "                min_idx=j\n",
    "        arr[min_idx],arr[i]=arr[i],arr[min_idx]"
   ]
  },
  {
   "cell_type": "code",
   "execution_count": 4,
   "id": "b9afd89f",
   "metadata": {},
   "outputs": [
    {
     "name": "stdout",
     "output_type": "stream",
     "text": [
      "Array before: [3, 60, 32, 46, 15, 12, 82, 47, 100, 69]\n",
      "Array after: [3, 12, 15, 32, 46, 47, 60, 69, 82, 100]\n"
     ]
    }
   ],
   "source": [
    "import random as rnd\n",
    "\n",
    "n=10\n",
    "arr=[]\n",
    "for f in range(0,n):\n",
    "    arr.append(rnd.randint(0,10*n))\n",
    "print(\"Array before:\",arr)\n",
    "selection_sort(arr,n)\n",
    "print(\"Array after:\",arr)\n"
   ]
  },
  {
   "cell_type": "code",
   "execution_count": null,
   "id": "1c83256b",
   "metadata": {},
   "outputs": [],
   "source": []
  },
  {
   "cell_type": "code",
   "execution_count": null,
   "id": "41caa0cd",
   "metadata": {},
   "outputs": [],
   "source": []
  },
  {
   "cell_type": "code",
   "execution_count": null,
   "id": "71a345da",
   "metadata": {},
   "outputs": [],
   "source": []
  }
 ],
 "metadata": {
  "kernelspec": {
   "display_name": "Python 3",
   "language": "python",
   "name": "python3"
  },
  "language_info": {
   "codemirror_mode": {
    "name": "ipython",
    "version": 3
   },
   "file_extension": ".py",
   "mimetype": "text/x-python",
   "name": "python",
   "nbconvert_exporter": "python",
   "pygments_lexer": "ipython3",
   "version": "3.6.13"
  }
 },
 "nbformat": 4,
 "nbformat_minor": 5
}
