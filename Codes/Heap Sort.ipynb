{
 "cells": [
  {
   "cell_type": "code",
   "execution_count": 2,
   "id": "52619053",
   "metadata": {},
   "outputs": [],
   "source": [
    "import random as rnd\n",
    "import math"
   ]
  },
  {
   "cell_type": "code",
   "execution_count": 4,
   "id": "2b523fc2",
   "metadata": {},
   "outputs": [
    {
     "name": "stdout",
     "output_type": "stream",
     "text": [
      "Array before sorting [-132, -980, -564, -978, 352, -510, 808, 736, 526, -84]\n",
      "Array after sorting (descending) [808, 736, 526, 352, -84, -132, -510, -564, -978, -980]\n"
     ]
    }
   ],
   "source": [
    "#HEAP SORT\n",
    "def max_heapify(ind,max_heap):\n",
    "    size=len(max_heap)\n",
    "    if(ind>size):\n",
    "        return\n",
    "    larg_ind=ind\n",
    "    child1=2*ind\n",
    "    child2=2*ind + 1\n",
    "    if(child1<size):\n",
    "        if(max_heap[child1]>max_heap[larg_ind]):\n",
    "            larg_ind=child1\n",
    "    if(child2<size):\n",
    "        if(max_heap[child2]>max_heap[larg_ind]):\n",
    "            larg_ind=child2\n",
    "    if(larg_ind!=ind):\n",
    "        max_heap[ind],max_heap[larg_ind]=max_heap[larg_ind],max_heap[ind]\n",
    "        max_heapify(larg_ind,max_heap)\n",
    "    \n",
    "            \n",
    "def heap_insert(ele,max_heap):\n",
    "    size=len(max_heap)\n",
    "    if(size==0):\n",
    "        max_heap.append(0)\n",
    "    max_heap.append(ele)\n",
    "    i=len(max_heap)-1\n",
    "    cont=True\n",
    "    while(i>1 and cont):\n",
    "        p_i=math.floor(i/2)\n",
    "        if(max_heap[i]>max_heap[p_i]):\n",
    "            max_heap[i],max_heap[p_i]=max_heap[p_i],max_heap[i]\n",
    "        else:\n",
    "            cont=False\n",
    "        i=p_i\n",
    "\n",
    "def extract_max(max_heap):\n",
    "    size=len(max_heap)-1\n",
    "    value=max_heap[1]\n",
    "    max_heap[1]=max_heap[size]\n",
    "    max_heap.pop(size)\n",
    "    max_heapify(1,max_heap)\n",
    "    return value\n",
    "\n",
    "def heap_sort(max_heap,sorted_arr):\n",
    "    while(len(max_heap)>1):\n",
    "        value=extract_max(max_heap)\n",
    "        sorted_arr.append(value)\n",
    "        \n",
    "arr=[]\n",
    "heap=[]\n",
    "n=10\n",
    "for i in range(n):\n",
    "    arr.append(rnd.randint(-(100*n),(100*n)))\n",
    "print(\"Array before sorting\",arr)\n",
    "for i in range(n):\n",
    "    heap_insert(arr[i],heap)\n",
    "sorted_arr=[]\n",
    "heap_sort(heap,sorted_arr)\n",
    "\n",
    "print(\"Array after sorting (descending)\",sorted_arr)\n",
    "    "
   ]
  },
  {
   "cell_type": "code",
   "execution_count": null,
   "id": "a55657f9",
   "metadata": {},
   "outputs": [],
   "source": []
  }
 ],
 "metadata": {
  "kernelspec": {
   "display_name": "Python 3",
   "language": "python",
   "name": "python3"
  },
  "language_info": {
   "codemirror_mode": {
    "name": "ipython",
    "version": 3
   },
   "file_extension": ".py",
   "mimetype": "text/x-python",
   "name": "python",
   "nbconvert_exporter": "python",
   "pygments_lexer": "ipython3",
   "version": "3.6.13"
  }
 },
 "nbformat": 4,
 "nbformat_minor": 5
}
