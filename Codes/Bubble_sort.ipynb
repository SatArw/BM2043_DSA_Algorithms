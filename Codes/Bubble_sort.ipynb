{
 "cells": [
  {
   "cell_type": "code",
   "execution_count": 4,
   "id": "4eb65105",
   "metadata": {},
   "outputs": [],
   "source": [
    "import random as rnd\n",
    "import time\n",
    "\n",
    "def bubble_sort(arr,n):\n",
    "    i=0\n",
    "    start_time = time.time()\n",
    "    while(i<n):\n",
    "        j=0\n",
    "        while(j<n-1-i):\n",
    "            \n",
    "            if(arr[j]>arr[j+1]):\n",
    "                \n",
    "                temp=arr[j]\n",
    "                arr[j]=arr[j+1]\n",
    "                arr[j+1]=temp\n",
    "            j+=1\n",
    "        i+=1\n",
    "    return (time.time()-start_time)\n",
    "\n"
   ]
  },
  {
   "cell_type": "code",
   "execution_count": 6,
   "id": "59d299a4",
   "metadata": {},
   "outputs": [
    {
     "name": "stdout",
     "output_type": "stream",
     "text": [
      "9.69209098815918\n"
     ]
    }
   ],
   "source": [
    "import random as rnd\n",
    "\n",
    "n=10000\n",
    "arr=[]\n",
    "for f in range(0,n):\n",
    "    arr.append(rnd.randint(0,10*n))\n",
    "#print(\"Array before:\",arr)\n",
    "t=bubble_sort(arr,n)\n",
    "#print(\"Array after:\",arr)\n",
    "print(t)"
   ]
  },
  {
   "cell_type": "code",
   "execution_count": null,
   "id": "51c39303",
   "metadata": {},
   "outputs": [],
   "source": []
  },
  {
   "cell_type": "code",
   "execution_count": null,
   "id": "91611847",
   "metadata": {},
   "outputs": [],
   "source": []
  }
 ],
 "metadata": {
  "kernelspec": {
   "display_name": "Python 3",
   "language": "python",
   "name": "python3"
  },
  "language_info": {
   "codemirror_mode": {
    "name": "ipython",
    "version": 3
   },
   "file_extension": ".py",
   "mimetype": "text/x-python",
   "name": "python",
   "nbconvert_exporter": "python",
   "pygments_lexer": "ipython3",
   "version": "3.6.13"
  }
 },
 "nbformat": 4,
 "nbformat_minor": 5
}
